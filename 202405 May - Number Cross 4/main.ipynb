{
 "cells": [
  {
   "cell_type": "markdown",
   "metadata": {},
   "source": [
    "### Road Map"
   ]
  },
  {
   "cell_type": "code",
   "execution_count": 2,
   "metadata": {},
   "outputs": [],
   "source": [
    "# Generate constraint functions jsons which provides all possible numbers grouped by digits (done)\n",
    "# Permutate blockages and force combinations within cells \n",
    "# Force such combinations on a grid\n",
    "# Weed and continue backtrack cell by cell till final answer is reached\n",
    "\n",
    "# grid_class.py has not been added in this commit, it will be added after the current puzzle has ended:) My submission is under skrowemalf"
   ]
  },
  {
   "cell_type": "markdown",
   "metadata": {},
   "source": [
    "### Imports"
   ]
  },
  {
   "cell_type": "code",
   "execution_count": 3,
   "metadata": {},
   "outputs": [],
   "source": [
    "%reset -f\n",
    "import json\n",
    "import time\n",
    "from handling_restrictions import get_blockages, get_latest_req, split_list, get_possibilities, joiner\n",
    "from grid_class import specialgrid\n",
    "from parameters import PARAMS, CONSTRAINTS, MASTER_NUM\n",
    "from copy import deepcopy as dc"
   ]
  },
  {
   "cell_type": "markdown",
   "metadata": {},
   "source": [
    "### Permutate blockages "
   ]
  },
  {
   "cell_type": "code",
   "execution_count": 4,
   "metadata": {},
   "outputs": [
    {
     "name": "stdout",
     "output_type": "stream",
     "text": [
      "Row 0, Possibilities: 3, 1s, derive_squares.json\n",
      "Row 1, Possibilities: 19, 2s, palindrome_p1.json\n",
      "Row 2, Possibilities: 5, 0s, prime_power.json\n",
      "Row 3, Possibilities: 0, 0s, \n",
      "Row 4, Possibilities: 17, 0s, fibonacci.json\n",
      "Row 5, Possibilities: 5, 1s, derive_squares.json\n",
      "Row 6, Possibilities: 0, 0s, \n",
      "Row 7, Possibilities: 1, 0s, palindrome_23.json\n",
      "Row 8, Possibilities: 0, 0s, \n",
      "Row 9, Possibilities: 0, 0s, \n",
      "Row 10, Possibilities: 4, 2s, palindrome_m1.json\n"
     ]
    }
   ],
   "source": [
    "# Load the constaint functions which provides all possible numbers grouped by digits for this level\n",
    "# For each possible blockage possibility\n",
    "    # (new_req)           (list)         Generate latest requirement with (current_grouping_formula, blockage), which is a list of groups + blockages (-1)\n",
    "    # (fractioned_req)    (list of list) Get fractioned requirement from get_latest_req (so that we can group by digits)\n",
    "    # (blockage_results)  (list)         Get all possibilities that satisfy the constraint function\n",
    "\n",
    "all_possible_blockage = get_blockages(MASTER_NUM)\n",
    "start = time.time()\n",
    "\n",
    "global_results = []\n",
    "global_blocks = []\n",
    "for row_idx in range(MASTER_NUM):\n",
    "    grouping_formula = PARAMS[row_idx]\n",
    "    fn = CONSTRAINTS[row_idx]\n",
    "    row_results = []\n",
    "    row_blocks = []\n",
    "    if fn != \"\": \n",
    "        with open('jsons/'+fn, 'r') as f:\n",
    "            constraint_function = json.load(f)\n",
    "        for blockages in all_possible_blockage:\n",
    "            new_req = get_latest_req(grouping_formula, blockages)\n",
    "            fractioned_req = split_list(new_req)\n",
    "            blockage_results = get_possibilities(fractioned_req, constraint_function)\n",
    "            if blockage_results:\n",
    "                row_results.append( joiner(new_req, blockage_results)  )\n",
    "                row_blocks.append(blockages)\n",
    "    if row_blocks == []:\n",
    "        row_blocks += all_possible_blockage\n",
    "    global_results.append(row_results)\n",
    "    global_blocks.append(row_blocks)\n",
    "    print(f\"Row {row_idx}, Possibilities: {len(row_results)}, {time.time()-start:.0f}s, {fn}\" )\n",
    "    start = time.time()"
   ]
  },
  {
   "cell_type": "code",
   "execution_count": 5,
   "metadata": {},
   "outputs": [
    {
     "name": "stdout",
     "output_type": "stream",
     "text": [
      "Row: 0 Combi length: 6\n",
      "Row: 1 Combi length: 38159\n",
      "Row: 2 Combi length: 116\n",
      "Row: 3 Combi length: 0\n",
      "Row: 4 Combi length: 619\n",
      "Row: 5 Combi length: 30\n",
      "Row: 6 Combi length: 0\n",
      "Row: 7 Combi length: 145\n",
      "Row: 8 Combi length: 0\n",
      "Row: 9 Combi length: 0\n",
      "Row: 10 Combi length: 1458\n"
     ]
    }
   ],
   "source": [
    "global_list = []\n",
    "for ROW_NUM in range(MASTER_NUM):\n",
    "    entire_combi_list = []\n",
    "    r_row = global_results[ROW_NUM]\n",
    "    for filled_possibility in r_row:\n",
    "        workspace = [ [] ]\n",
    "        for element in filled_possibility:\n",
    "            new_workspace = []\n",
    "            if isinstance(element, list):\n",
    "                while workspace:\n",
    "                    curr_possibility = workspace.pop() \n",
    "                    for num in element:\n",
    "                        new_workspace.append(curr_possibility + list(str(num)))\n",
    "            else:\n",
    "                while workspace:\n",
    "                    curr_possibility = workspace.pop()\n",
    "                    new_workspace.append(curr_possibility + [element]) \n",
    "            workspace = new_workspace\n",
    "        entire_combi_list += dc(workspace)\n",
    "    entire_combi_list = [ [int(x) for x in element] for element in entire_combi_list]\n",
    "    global_list.append(entire_combi_list)\n",
    "    print(f'Row: {ROW_NUM} Combi length: {len(entire_combi_list)}')\n"
   ]
  },
  {
   "cell_type": "code",
   "execution_count": 6,
   "metadata": {},
   "outputs": [
    {
     "name": "stdout",
     "output_type": "stream",
     "text": [
      "\n",
      "Params:\n",
      "    0   1   2   3   4   5   6   7   8   9  10\n",
      " 0| 0 | 0 | 0 | 4 | 4 | 4 | 8 | 8 | 9 | 9 | 9 | 0   Square\n",
      " 1| 0 | 3 | 3 | 3 | 4 | 4 | 8 | 9 | 9 | 9 | 10| 1   1 more than Pall\n",
      " 2| 0 | 3 | 3 | 4 | 4 | 4 | 8 | 9 | 9 | 9 | 10| 2   prime power prime\n",
      " 3| 0 | 3 | 3 | 4 | 4 | 5 | 5 | 9 | 10| 10| 10| 3   Sum digits 7\n",
      " 4| 0 | 3 | 4 | 4 | 9 | 9 | 5 | 9 | 10| 11| 10| 4   Fibonacci\n",
      " 5| 0 | 9 | 9 | 9 | 9 | 9 | 9 | 9 | 11| 11| 12| 5   Square\n",
      " 6| 2 | 9 | 9 | 9 | 9 | 6 | 6 | 9 | 11| 11| 11| 6   Multiple of 37\n",
      " 7| 2 | 2 | 1 | 9 | 1 | 6 | 6 | 9 | 9 | 11| 9 | 7   Pall and %23\n",
      " 8| 2 | 2 | 1 | 1 | 1 | 6 | 6 | 9 | 9 | 9 | 9 | 8   Product ends 1\n",
      " 9| 2 | 1 | 1 | 2 | 2 | 2 | 6 | 9 | 9 | 9 | 7 | 9   Multiple of 88\n",
      "10| 2 | 2 | 2 | 2 | 2 | 6 | 6 | 6 | 9 | 9 | 7 | 10  1 less than Pall\n",
      "    0   1   2   3   4   5   6   7   8   9  10\n",
      "\n",
      "Grid:\n",
      "    0   1   2   3   4   5   6   7   8   9  10\n",
      " 0|   |   |   |   |   |   |   |   |   |   |   | 0   Square\n",
      " 1|   |   |   |   |   |   |   |   |   |   |   | 1   1 more than Pall\n",
      " 2|   |   |   |   |   |   |   |   |   |   |   | 2   prime power prime\n",
      " 3|   |   |   |   |   |   |   |   |   |   |   | 3   Sum digits 7\n",
      " 4|   |   |   |   |   |   |   |   |   |   |   | 4   Fibonacci\n",
      " 5|   |   |   |   |   |   |   |   |   |   |   | 5   Square\n",
      " 6|   |   |   |   |   |   |   |   |   |   |   | 6   Multiple of 37\n",
      " 7|   |   |   |   |   |   |   |   |   |   |   | 7   Pall and %23\n",
      " 8|   |   |   |   |   |   |   |   |   |   |   | 8   Product ends 1\n",
      " 9|   |   |   |   |   |   |   |   |   |   |   | 9   Multiple of 88\n",
      "10|   |   |   |   |   |   |   |   |   |   |   | 10  1 less than Pall\n",
      "    0   1   2   3   4   5   6   7   8   9  10\n",
      "\n"
     ]
    }
   ],
   "source": [
    "specialgrid().pprint('all')"
   ]
  },
  {
   "cell_type": "code",
   "execution_count": 7,
   "metadata": {},
   "outputs": [
    {
     "name": "stdout",
     "output_type": "stream",
     "text": [
      "Visited idx: 0, Expected Combinations: 6, Total grids in workspace: 6\n",
      "Visited idx: 2, Expected Combinations: 116, Total grids in workspace: 1\n",
      "Visited idx: 5, Expected Combinations: 30, Total grids in workspace: 30\n",
      "Visited idx: 7, Expected Combinations: 145, Total grids in workspace: 33\n",
      "Time taken: 34.28 seconds\n"
     ]
    }
   ],
   "source": [
    "# Get a ranking of all smallest to largest possible combinations lengths, ignoring 0's\n",
    "rankings = sorted( [ (idx,len(row)) for idx, row in enumerate(global_list)] , key=lambda x: x[1])\n",
    "threshold = 200\n",
    "rankings = sorted([ row for row in rankings if threshold > row[1] > 0])\n",
    "\n",
    "grid_workspace = [ specialgrid() ]\n",
    "start = time.time()\n",
    "for idx, combi_counts in rankings:\n",
    "    if combi_counts == 0: continue\n",
    "    combination_list = global_list[idx]\n",
    "    temp_grid_workspace = []\n",
    "    while grid_workspace:\n",
    "        curr_grid = grid_workspace.pop()\n",
    "        for row in combination_list:\n",
    "            new_grid = dc(curr_grid)\n",
    "            new_grid.grid[idx] = row\n",
    "            if new_grid.valid_check():\n",
    "                temp_grid_workspace.append(new_grid)\n",
    "\n",
    "    grid_workspace = temp_grid_workspace    \n",
    "    print(f\"Visited idx: {idx}, Expected Combinations: {combi_counts}, Total grids in workspace: {len(grid_workspace)}\" )\n",
    "print(f'Time taken: {time.time()-start:.2f} seconds')\n"
   ]
  },
  {
   "cell_type": "code",
   "execution_count": 8,
   "metadata": {},
   "outputs": [
    {
     "name": "stdout",
     "output_type": "stream",
     "text": [
      "(Iteration, workspace length, min cells filled)\n",
      "(0, 33, -1) (1, 66, 59) (2, 33, 60) (3, 33, 61) (4, 33, 62) (5, 33, 63) (6, 66, 64) (7, 66, 65) (8, 231, 66) (9, 518, 67) (10, 1498, 68) (11, 1228, 69) (12, 982, 70) (13, 64, 71) (14, 144, 73) (15, 420, 74) (16, 392, 75) (17, 384, 76) (18, 384, 77) (19, 400, 78) (20, 392, 79) (21, 132, 80) (22, 5, 83) (23, 5, 85) (24, 6, 86) (25, 6, 87) (26, 3, 88) (27, 2, 90) (28, 2, 91) (29, 2, 92) (30, 2, 93) (31, 2, 94) (32, 2, 95) (33, 3, 96) (34, 2, 100) (35, 3, 101) (36, 4, 102) (37, 12, 103) (38, 27, 104) (39, 25, 105) (40, 17, 106) (41, 18, 107) (42, 17, 108) (43, 24, 109) (44, 10, 110) (45, 9, 113) (46, 1, 116) (47, 2, 117) (48, 9, 118) (49, 2, 119) \n",
      "Found solution in 49 iterations\n"
     ]
    }
   ],
   "source": [
    "# Take above combinations, and now forcefully fill in grids via backtracking.\n",
    "\n",
    "mass_stop = False\n",
    "workspace = grid_workspace\n",
    "min_filled_grid = -1\n",
    "print('(Iteration, workspace length, min cells filled)')\n",
    "for iteration_x in range(70):\n",
    "    new_workspace = []\n",
    "    print(f\"({iteration_x}, {len(workspace)}, {min_filled_grid})\", end=\" \")\n",
    "    min_filled_grid = MASTER_NUM**2 + 20\n",
    "    while workspace:\n",
    "        curr_grid = workspace.pop()\n",
    "        i, j, possibilities = curr_grid.find_closest_cell()\n",
    "        if i == -1 and curr_grid.min_filled() == MASTER_NUM**2: \n",
    "            print(f\"\\nFound solution in {iteration_x} iterations\")\n",
    "            mass_stop = True\n",
    "            break\n",
    "        for num in possibilities:\n",
    "            new_grid = dc(curr_grid)\n",
    "            new_grid.grid[i][j] = num # Fill any number\n",
    "            new_grid.weed()           # Weed out any invalid possibilities\n",
    "            if new_grid.valid_check():  \n",
    "                min_filled_grid = min(min_filled_grid, new_grid.min_filled())\n",
    "                new_workspace.append(new_grid)\n",
    "    if mass_stop: break\n",
    "    workspace = new_workspace\n",
    "    if len(new_workspace) == 0: \n",
    "        print(\"There are no more grids available in the workspace\")\n",
    "        break"
   ]
  },
  {
   "cell_type": "code",
   "execution_count": 9,
   "metadata": {},
   "outputs": [
    {
     "name": "stdout",
     "output_type": "stream",
     "text": [
      "\n",
      "Params:\n",
      "    0   1   2   3   4   5   6   7   8   9  10\n",
      " 0| 0 | 0 | 0 | 4 | 4 | 4 | 8 | 8 | 18| 18| 18| 0   Square\n",
      " 1| 0 | 3 | 3 | 3 | 4 | . | 8 | 18| 18| 18| . | 1   1 more than Pall\n",
      " 2| 0 | 3 | 3 | 13| . | 15| 8 | 18| 18| 18| 10| 2   prime power prime\n",
      " 3| 0 | 3 | 3 | . | 20| 5 | 5 | 18| 14| 14| . | 3   Sum digits 7\n",
      " 4| 0 | 3 | . | 19| 18| 18| . | 18| 14| 11| 16| 4   Fibonacci\n",
      " 5| 0 | 17| 17| 17| . | 18| 18| 18| 11| 11| 12| 5   Square\n",
      " 6| 2 | 17| 17| 17| 17| . | 21| 18| 11| 11| 11| 6   Multiple of 37\n",
      " 7| 2 | 2 | 1 | 17| 1 | 21| 21| . | 9 | 11| 9 | 7   Pall and %23\n",
      " 8| 2 | 2 | 1 | 1 | 1 | 21| 21| 9 | 9 | 9 | 9 | 8   Product ends 1\n",
      " 9| . | 1 | 1 | 6 | 6 | . | 21| 9 | 9 | 9 | 7 | 9   Multiple of 88\n",
      "10| 6 | 6 | 6 | 6 | 6 | 22| . | 23| 9 | 9 | 7 | 10  1 less than Pall\n",
      "    0   1   2   3   4   5   6   7   8   9  10\n",
      "\n",
      "Grid:\n",
      "    0   1   2   3   4   5   6   7   8   9  10\n",
      " 0| 1 | 1 | 1 | 2 | 2 | 2 | 3 | 3 | 4 | 4 | 4 | 0   Square\n",
      " 1| 1 | 3 | 3 | 3 | 2 | . | 3 | 4 | 4 | 4 | . | 1   1 more than Pall\n",
      " 2| 1 | 3 | 3 | 1 | . | 7 | 3 | 4 | 4 | 4 | 9 | 2   prime power prime\n",
      " 3| 1 | 3 | 3 | . | 1 | 0 | 0 | 4 | 1 | 1 | . | 3   Sum digits 7\n",
      " 4| 1 | 3 | . | 1 | 4 | 4 | . | 4 | 1 | 8 | 1 | 4   Fibonacci\n",
      " 5| 1 | 4 | 4 | 4 | . | 4 | 4 | 4 | 8 | 8 | 9 | 5   Square\n",
      " 6| 7 | 4 | 4 | 4 | 4 | . | 7 | 4 | 8 | 8 | 8 | 6   Multiple of 37\n",
      " 7| 7 | 7 | 1 | 4 | 1 | 7 | 7 | . | 9 | 8 | 9 | 7   Pall and %23\n",
      " 8| 7 | 7 | 1 | 1 | 1 | 7 | 7 | 9 | 9 | 9 | 9 | 8   Product ends 1\n",
      " 9| . | 1 | 1 | 4 | 4 | . | 7 | 9 | 9 | 9 | 2 | 9   Multiple of 88\n",
      "10| 4 | 4 | 4 | 4 | 4 | 3 | . | 3 | 9 | 9 | 2 | 10  1 less than Pall\n",
      "    0   1   2   3   4   5   6   7   8   9  10\n",
      "\n",
      "Final result, sum of all numbers in the grid = 88,243,711,283\n"
     ]
    }
   ],
   "source": [
    "# curr_grid is the final grid after all the iterations. \n",
    "curr_grid.pprint('all')\n",
    "print(f\"Final result, sum of all numbers in the grid = {curr_grid.final_result():,}\")"
   ]
  }
 ],
 "metadata": {
  "kernelspec": {
   "display_name": "Python 3",
   "language": "python",
   "name": "python3"
  },
  "language_info": {
   "codemirror_mode": {
    "name": "ipython",
    "version": 3
   },
   "file_extension": ".py",
   "mimetype": "text/x-python",
   "name": "python",
   "nbconvert_exporter": "python",
   "pygments_lexer": "ipython3",
   "version": "3.11.4"
  },
  "orig_nbformat": 4
 },
 "nbformat": 4,
 "nbformat_minor": 2
}
